{
 "cells": [
  {
   "cell_type": "markdown",
   "id": "3b07ddc5",
   "metadata": {},
   "source": [
    "# Assignment 1"
   ]
  },
  {
   "cell_type": "markdown",
   "id": "d242674b",
   "metadata": {},
   "source": [
    "### Joey Schnecker PID: A12028163\n",
    "---"
   ]
  },
  {
   "cell_type": "code",
   "execution_count": 91,
   "id": "033d9957",
   "metadata": {},
   "outputs": [],
   "source": [
    "import time"
   ]
  },
  {
   "cell_type": "markdown",
   "id": "c1bf8352",
   "metadata": {},
   "source": [
    "#### Import and Load the Base Overlay to the PL"
   ]
  },
  {
   "cell_type": "code",
   "execution_count": 92,
   "id": "4430a023",
   "metadata": {},
   "outputs": [],
   "source": [
    "from pynq.overlays.base import BaseOverlay\n",
    "base = BaseOverlay(\"base.bit\")"
   ]
  },
  {
   "cell_type": "markdown",
   "id": "21ac0f14",
   "metadata": {},
   "source": [
    "#### PMOD Pinout\n",
    "![PMOD Pinout](images/pmod_pinout.png)"
   ]
  },
  {
   "cell_type": "markdown",
   "id": "dfc95f7b",
   "metadata": {},
   "source": [
    "#### Modified Lab 1 Code\n",
    "\n",
    "`clear_gpio()` function was added"
   ]
  },
  {
   "cell_type": "code",
   "execution_count": 93,
   "id": "01aa7cb5",
   "metadata": {},
   "outputs": [],
   "source": [
    "%%microblaze base.PMODB\n",
    "\n",
    "#include \"gpio.h\"\n",
    "#include \"pyprintf.h\"\n",
    "\n",
    "//Function to turn on/off a selected pin of PMODB\n",
    "void write_gpio(unsigned int pin, unsigned int val){\n",
    "    if (val > 1){\n",
    "        pyprintf(\"pin value must be 0 or 1\");\n",
    "    }\n",
    "    gpio pin_out = gpio_open(pin);\n",
    "    gpio_set_direction(pin_out, GPIO_OUT);\n",
    "    gpio_write(pin_out, val);\n",
    "    //gpio_close(pin_out);\n",
    "}\n",
    "\n",
    "//Function to read the value of a selected pin of PMODB\n",
    "unsigned int read_gpio(unsigned int pin){\n",
    "    gpio pin_in = gpio_open(pin);\n",
    "    gpio_set_direction(pin_in, GPIO_IN);\n",
    "    return gpio_read(pin_in);\n",
    "}\n",
    "\n",
    "//Function that resets all PMODB Pins\n",
    "void clear_gpio(){\n",
    "    for(int i=0; i<=7; i++){\n",
    "        gpio pin = gpio_open(i);\n",
    "        gpio_close(pin);\n",
    "        write_gpio(i, 0);\n",
    "        //gpio pin = gpio_open(i);\n",
    "        //gpio_write(pin, 0);\n",
    "        //gpio_close(pin);\n",
    "    }\n",
    "}"
   ]
  },
  {
   "cell_type": "markdown",
   "id": "5fdcc2d1",
   "metadata": {},
   "source": [
    "#### Python Code to Emulate PWM on GPIO Pin"
   ]
  },
  {
   "cell_type": "code",
   "execution_count": 94,
   "id": "e0864c88",
   "metadata": {},
   "outputs": [],
   "source": [
    "#Test cell to turn on LED\n",
    "write_gpio(1,0)\n",
    "write_gpio(2,1)\n",
    "write_gpio(3,0)"
   ]
  },
  {
   "cell_type": "code",
   "execution_count": 95,
   "id": "2eccd81a",
   "metadata": {},
   "outputs": [],
   "source": [
    "clear_gpio()"
   ]
  },
  {
   "cell_type": "code",
   "execution_count": 96,
   "id": "5d51baec",
   "metadata": {},
   "outputs": [],
   "source": [
    "# def turn_off():\n",
    "#     write_gpio(1,0)\n",
    "#     write_gpio(2,0)\n",
    "#     write_gpio(3,0)\n",
    "\n",
    "#this function breaks if left running for too long at higher frequencies\n",
    "def pwm_gpio(pin,freq,dc,count=-1):\n",
    "    if pin < 0 or pin > 7:\n",
    "        print(\"Invalid Pin\")\n",
    "        return\n",
    "    if count == 0 or count < -1:\n",
    "        print(\"Invalid count\")\n",
    "        return #do nothing\n",
    "    if dc == 0:\n",
    "        write_gpio(pin,0)\n",
    "        print(\"0% Duty Cycle\")\n",
    "        return \n",
    "    if dc == 1:\n",
    "        write_gpio(pin,1)\n",
    "        print(\"100% Duty Cycle\")\n",
    "        return  \n",
    "    per = round(1.0/freq,5)\n",
    "    t_on = round(dc * per,5)\n",
    "    t_off = round(per - t_on,5)\n",
    "    print(\"Period:   {}\".format(per))\n",
    "    print(\"Time On:  {}\".format(t_on))\n",
    "    print(\"Time Off: {}\".format(t_off))\n",
    "    i = 0\n",
    "    while i < abs(count):\n",
    "        write_gpio(pin,1)\n",
    "        time.sleep(t_on)\n",
    "        write_gpio(pin,0)\n",
    "        time.sleep(t_off)\n",
    "        if count != -1: \n",
    "            i += 1\n",
    "    print(\"Blinked {} times\".format(i))\n",
    "            "
   ]
  },
  {
   "cell_type": "code",
   "execution_count": 102,
   "id": "a21da71c",
   "metadata": {},
   "outputs": [
    {
     "name": "stdout",
     "output_type": "stream",
     "text": [
      "Period:   0.02222\n",
      "Time On:  0.00556\n",
      "Time Off: 0.01666\n",
      "Blinked 200 times\n"
     ]
    }
   ],
   "source": [
    "pin = 1\n",
    "freq = 45 #Hz\n",
    "dc = 0.25\n",
    "#duty cycle \n",
    "cycles = 200\n",
    "pwm_gpio(pin,freq,dc,cycles)"
   ]
  },
  {
   "cell_type": "code",
   "execution_count": 51,
   "id": "7209aa2a",
   "metadata": {},
   "outputs": [],
   "source": [
    "clear_gpio()"
   ]
  },
  {
   "cell_type": "code",
   "execution_count": 69,
   "id": "d90bc7bf",
   "metadata": {},
   "outputs": [],
   "source": [
    "leds = {\n",
    "    'red':3,\n",
    "    'green':2,\n",
    "    'blue':1\n",
    "}"
   ]
  },
  {
   "cell_type": "markdown",
   "id": "a8a165dd",
   "metadata": {},
   "source": [
    "## Comparison of Pmod_PWM vs Pmod_IO python classes\n",
    "\n",
    "After experimenting using the Pmod_PWM you can set a PMOD pin to be used as a pwm generator, but you give up control as gpio. Once a Pmod_IO or Pmod_PWM instance is assigned to PMODB you cannot assign any other function to it. So for example you cannot use Pmod_PWM to make a pwm generator on pin1 and then also use Pmod_IO to read and write to pin1 as gpio (unless you reaload the base overlay). \n",
    "\n",
    "Usind the Pmod_PWM class you get get us level control over the period of the PWM generator. Since the PWM is generated on the microblaze and is just being called by the pyton wrapper, this pwm generator can be very precise (us) timing wise. \n",
    "\n",
    "Comparatively, using the Pmod_IO class lets you configure PMOD B as general gpio, and then you can create a custom pwm generation fucntion in python. This lets you generate a pwm and also read/write the gpio pins whenever you want. The downside is that the PWM waveform has less percise timing than using the Pmod_PWM class(eg maybe a 51% dc instead of 50% or 10.2Hz instead of 10Hz). \n",
    "\n",
    "For this application the Pmod_IO approach is preffered becasue it is more flexable and we do not need the accuarcy that the Pmod_PWM might provide. "
   ]
  },
  {
   "cell_type": "markdown",
   "id": "4c4d1fe8",
   "metadata": {},
   "source": [
    "### Testing the pynq.lib pwm module\n",
    "Pmod_PWM Documentation: https://pynq.readthedocs.io/en/v2.1/pynq_package/pynq.lib/pynq.lib.pmod.html#module-pynq.lib.pmod.pmod_pwm"
   ]
  },
  {
   "cell_type": "code",
   "execution_count": 267,
   "id": "41bc671f",
   "metadata": {},
   "outputs": [],
   "source": [
    "import time\n",
    "from pynq.lib import Pmod_PWM\n",
    "from pynq.overlays.base import BaseOverlay\n",
    "base = BaseOverlay(\"base.bit\")"
   ]
  },
  {
   "cell_type": "code",
   "execution_count": 143,
   "id": "3eb1188f",
   "metadata": {},
   "outputs": [
    {
     "name": "stdout",
     "output_type": "stream",
     "text": [
      "Period (s)  = 0.022222\n",
      "Period (us) = 22222\n"
     ]
    }
   ],
   "source": [
    "freq = 45\n",
    "period = round(1.0/freq,6)#round to us \n",
    "period_us = int(period * 1e6)\n",
    "if period_us > 65536: #note this is about 16hz \n",
    "    print(\"Warning pwm.generate() wont work!\")\n",
    "pin = leds['blue']\n",
    "dc = 90\n",
    "print(\"Period (s)  = {}\".format(period))\n",
    "print(\"Period (us) = {}\".format(period_us))"
   ]
  },
  {
   "cell_type": "code",
   "execution_count": 144,
   "id": "d241c0ae",
   "metadata": {},
   "outputs": [],
   "source": [
    "# Select PMOD (PMODA or PMODB) and output pin (0 -7)\n",
    "pwm = Pmod_PWM(base.PMODB,pin)\n",
    "# Set period in us and duty cycle\n",
    "pwm.generate(period_us,dc)\n",
    "# Stop PWM\n",
    "# pwm.stop()"
   ]
  },
  {
   "cell_type": "code",
   "execution_count": 145,
   "id": "029465ee",
   "metadata": {},
   "outputs": [],
   "source": [
    "pwm.stop()"
   ]
  },
  {
   "cell_type": "markdown",
   "id": "bc481f79",
   "metadata": {},
   "source": [
    "### Testing Pmod_IO python class"
   ]
  },
  {
   "cell_type": "markdown",
   "id": "9a50bbad",
   "metadata": {},
   "source": [
    "Pmod_IO Documentation:\n",
    "https://pynq.readthedocs.io/en/v2.1/pynq_package/pynq.lib/pynq.lib.pmod.html#module-pynq.lib.pmod.pmod_io"
   ]
  },
  {
   "cell_type": "code",
   "execution_count": 80,
   "id": "f13639de",
   "metadata": {},
   "outputs": [],
   "source": [
    "import time\n",
    "from pynq.lib import Pmod_IO\n",
    "from pynq.overlays.base import BaseOverlay\n",
    "base = BaseOverlay(\"base.bit\")"
   ]
  },
  {
   "cell_type": "code",
   "execution_count": 81,
   "id": "b7822729",
   "metadata": {},
   "outputs": [],
   "source": [
    "#creat Pmos_IO objects for all used pins\n",
    "gpio_pin_1 = Pmod_IO(base.PMODB,1,'out')\n",
    "gpio_pin_2 = Pmod_IO(base.PMODB,2,'out')\n",
    "gpio_pin_3 = Pmod_IO(base.PMODB,3,'out')\n",
    "\n",
    "#store thses pins in a dictionary to easily refrence based on color\n",
    "pins = {\n",
    "    'red'   : gpio_pin_3, \n",
    "    'green' : gpio_pin_2,\n",
    "    'blue'  : gpio_pin_1\n",
    "}   "
   ]
  },
  {
   "cell_type": "code",
   "execution_count": 82,
   "id": "997c6cd8",
   "metadata": {},
   "outputs": [],
   "source": [
    "pins['blue'].write(1) #turns on blue led"
   ]
  },
  {
   "cell_type": "code",
   "execution_count": 85,
   "id": "cce104bb",
   "metadata": {},
   "outputs": [],
   "source": [
    "def clear_gpio():\n",
    "    for color in pins:\n",
    "        pins[color].write(0)"
   ]
  },
  {
   "cell_type": "code",
   "execution_count": 86,
   "id": "2315b269",
   "metadata": {},
   "outputs": [],
   "source": [
    "clear_gpio() #turns off all leds"
   ]
  },
  {
   "cell_type": "code",
   "execution_count": 8,
   "id": "a43dc042",
   "metadata": {},
   "outputs": [],
   "source": [
    "def generate_pwm(color,freq,dc,cycles,supress_output=True):\n",
    "    if not((color == 'red') or (color == \"blue\") or (color == 'green')):\n",
    "        print(\"Invalid input. Enter 'red', 'green or 'blue' as first arg.\")\n",
    "        return \n",
    "    if dc < 1:\n",
    "        pins[color].write(0)\n",
    "        print('dc < 1, write 0 to gpio pin.')\n",
    "        return \n",
    "    if dc > 99:\n",
    "        pins[color].write(1)\n",
    "        print('dc > 99, write 1 to gpio pin.')\n",
    "        return \n",
    "    if cycles < 1:\n",
    "        print(\"Cycles must be >= 1.\")\n",
    "        return \n",
    "    period = round(1.0/freq,6) #round period to nearest us\n",
    "    ton = round(0.01*dc*period,6)\n",
    "    toff = round(period-ton,6)\n",
    "    for i in range(0,cycles):\n",
    "        pins[color].write(1)\n",
    "        time.sleep(ton)\n",
    "        pins[color].write(0)\n",
    "        time.sleep(toff)\n",
    "    if not(supress_output):\n",
    "        print(\"Period:   {}\".format(period))\n",
    "        print(\"Time On:  {}\".format(ton))\n",
    "        print(\"Time Off: {}\".format(toff))\n",
    "        print(\"done!\")"
   ]
  },
  {
   "cell_type": "code",
   "execution_count": 87,
   "id": "7e9dd24b",
   "metadata": {},
   "outputs": [],
   "source": [
    "def calc_cycles(freq,desired_time):\n",
    "    period = round(1.0/freq,6)\n",
    "    cycles = int(desired_time/period)\n",
    "    return cycles"
   ]
  },
  {
   "cell_type": "code",
   "execution_count": 28,
   "id": "856f9835",
   "metadata": {},
   "outputs": [
    {
     "name": "stdout",
     "output_type": "stream",
     "text": [
      "59\n",
      "Period:   0.016667\n",
      "Time On:  0.008334\n",
      "Time Off: 0.008333\n",
      "done!\n",
      "Run Time 1.033 seconds\n"
     ]
    }
   ],
   "source": [
    "freq = 60\n",
    "dc = 50\n",
    "color = \"blue\"\n",
    "run_time = 1\n",
    "cycles = calc_cycles(freq,run_time)\n",
    "print(cycles)\n",
    "start_time = time.time()\n",
    "generate_pwm(color,freq,dc,cycles,False)\n",
    "print(\"Run Time {} seconds\".format(round(time.time()-start_time,3)))"
   ]
  },
  {
   "cell_type": "markdown",
   "id": "340c549b",
   "metadata": {},
   "source": [
    "#### Test to see Dimming"
   ]
  },
  {
   "cell_type": "code",
   "execution_count": 27,
   "id": "6c71bb47",
   "metadata": {},
   "outputs": [
    {
     "name": "stdout",
     "output_type": "stream",
     "text": [
      "dc < 1, write 0 to gpio pin.\n"
     ]
    }
   ],
   "source": [
    "for dc in range(0,100):\n",
    "   generate_pwm(color,freq,dc,cycles) "
   ]
  },
  {
   "cell_type": "markdown",
   "id": "c238afd4",
   "metadata": {},
   "source": [
    "### Async PWM Generator\n",
    "let the program do other stuff while the pwm is being gnerated"
   ]
  },
  {
   "cell_type": "code",
   "execution_count": 281,
   "id": "b3746fca",
   "metadata": {},
   "outputs": [],
   "source": [
    "async def async_generate_pwm(supress_output=True):\n",
    "    global freq,dc,color,gen_pwm\n",
    "    if not((color == 'red') or (color == \"blue\") or (color == 'green')):\n",
    "        print(\"Invalid input. Enter 'red', 'green or 'blue' as first arg.\")\n",
    "        return \n",
    "    if dc < 1:\n",
    "        pins[color].write(0)\n",
    "        print('dc < 1, write 0 to gpio pin.')\n",
    "        return \n",
    "    if dc > 99:\n",
    "        pins[color].write(1)\n",
    "        print('dc > 99, write 1 to gpio pin.')\n",
    "        return \n",
    "    if cycles < 1:\n",
    "        print(\"Cycles must be >= 1.\")\n",
    "        return \n",
    "    while gen_pwm:\n",
    "        period = round(1.0/freq,6) #round period to nearest us\n",
    "        ton = round(0.01*dc*period,6)\n",
    "        toff = round(period-ton,6)\n",
    "        pins[color].write(1)\n",
    "        await asyncio.sleep(ton)\n",
    "        pins[color].write(0)\n",
    "        await asyncio.sleep(toff)\n",
    "    if not(supress_output):\n",
    "        print(\"Period:   {}\".format(period))\n",
    "        print(\"Time On:  {}\".format(ton))\n",
    "        print(\"Time Off: {}\".format(toff))\n",
    "        print(\"done!\")"
   ]
  },
  {
   "cell_type": "markdown",
   "id": "54387f97",
   "metadata": {},
   "source": [
    "### Part 6"
   ]
  },
  {
   "cell_type": "code",
   "execution_count": 88,
   "id": "ea6e0e5f",
   "metadata": {},
   "outputs": [],
   "source": [
    "import asyncio"
   ]
  },
  {
   "cell_type": "code",
   "execution_count": 89,
   "id": "a5e11af5",
   "metadata": {},
   "outputs": [],
   "source": [
    "freq = 60\n",
    "dc = 25\n",
    "color = 'red'\n",
    "gen_pwm = True\n",
    "iterations = 59\n",
    "pause_time = 1\n",
    "btns = base.btns_gpio\n",
    "run = True"
   ]
  },
  {
   "cell_type": "code",
   "execution_count": 90,
   "id": "c3d7c292",
   "metadata": {},
   "outputs": [],
   "source": [
    "def calc_cycles(freq,desired_time):\n",
    "    period = round(1.0/freq,6)\n",
    "    cycles = int(desired_time/period)\n",
    "    return cycles"
   ]
  },
  {
   "cell_type": "code",
   "execution_count": 54,
   "id": "b4100f5e",
   "metadata": {},
   "outputs": [],
   "source": [
    "# async def flash_leds():\n",
    "#     global color, freq, dc, iterations\n",
    "#     while True:\n",
    "#         print(\"Flashing LED\")\n",
    "#         generate_pwm(color,freq,dc,iterations) \n",
    "#         await asyncio.sleep(1.0)"
   ]
  },
  {
   "cell_type": "code",
   "execution_count": 73,
   "id": "abffca2f",
   "metadata": {},
   "outputs": [],
   "source": [
    "async def flash_leds(_loop):\n",
    "    global color, freq, dc, iterations, pause_time, run\n",
    "    while True:\n",
    "        print(\"Flashing LED\")\n",
    "#         if not((color == 'red') or (color == \"blue\") or (color == 'green')):\n",
    "#             print(\"Invalid input. Enter 'red', 'green or 'blue' as first arg.\")\n",
    "#             _loop.stop()\n",
    "#             return \n",
    "#         if dc < 1:\n",
    "#             pins[color].write(0)\n",
    "#             print('dc < 1, write 0 to gpio pin.')\n",
    "#             return \n",
    "#         if dc > 99:\n",
    "#             pins[color].write(1)\n",
    "#             print('dc > 99, write 1 to gpio pin.')\n",
    "#             return \n",
    "#         if cycles < 1:\n",
    "#             print(\"Cycles must be >= 1.\")\n",
    "#             return \n",
    "        period = round(1.0/freq,6) #round period to nearest us\n",
    "        ton = round(0.01*dc*period,6)\n",
    "        toff = round(period-ton,6)\n",
    "        clear_gpio()\n",
    "        for i in range(0,iterations):\n",
    "            pins[color].write(1)\n",
    "            await asyncio.sleep(ton)\n",
    "            pins[color].write(0)\n",
    "            await asyncio.sleep(toff)\n",
    "        await asyncio.sleep(pause_time)\n",
    "        print(\"Pausing\")\n",
    "#     if not(supress_output):\n",
    "#         print(\"Period:   {}\".format(period))\n",
    "#         print(\"Time On:  {}\".format(ton))\n",
    "#         print(\"Time Off: {}\".format(toff))\n",
    "#         print(\"done!\")"
   ]
  },
  {
   "cell_type": "code",
   "execution_count": 74,
   "id": "bd180cd6",
   "metadata": {},
   "outputs": [],
   "source": [
    "async def get_btns(_loop):\n",
    "    global color, btns\n",
    "    while True:\n",
    "        await asyncio.sleep(0.01)\n",
    "        btn_press = btns.read()\n",
    "        if btn_press == 1:\n",
    "            color = 'red'\n",
    "            print(\"Button 0 Pressed\")\n",
    "        elif btn_press == 2:\n",
    "            color = 'blue'\n",
    "            print(\"Button 1 Pressed\")\n",
    "        elif btn_press == 4:\n",
    "            color = 'green'\n",
    "            print(\"Button 2 Pressed\")\n",
    "        elif btn_press == 8:\n",
    "            _loop.stop()\n",
    "            print(\"Button 3 Pressed\")\n",
    "            cond = False\n",
    "        elif btn_press != 0:\n",
    "            print(btn_press)"
   ]
  },
  {
   "cell_type": "code",
   "execution_count": 77,
   "id": "c6aea3d7",
   "metadata": {},
   "outputs": [
    {
     "ename": "KeyboardInterrupt",
     "evalue": "",
     "output_type": "error",
     "traceback": [
      "\u001b[0;31m---------------------------------------------------------------------------\u001b[0m",
      "\u001b[0;31mKeyboardInterrupt\u001b[0m                         Traceback (most recent call last)",
      "\u001b[0;32m<ipython-input-77-0fd9f3c7d8e9>\u001b[0m in \u001b[0;36m<module>\u001b[0;34m\u001b[0m\n\u001b[1;32m      2\u001b[0m \u001b[0mloop\u001b[0m\u001b[0;34m.\u001b[0m\u001b[0mcreate_task\u001b[0m\u001b[0;34m(\u001b[0m\u001b[0mflash_leds\u001b[0m\u001b[0;34m(\u001b[0m\u001b[0mloop\u001b[0m\u001b[0;34m)\u001b[0m\u001b[0;34m)\u001b[0m\u001b[0;34m\u001b[0m\u001b[0;34m\u001b[0m\u001b[0m\n\u001b[1;32m      3\u001b[0m \u001b[0mloop\u001b[0m\u001b[0;34m.\u001b[0m\u001b[0mcreate_task\u001b[0m\u001b[0;34m(\u001b[0m\u001b[0mget_btns\u001b[0m\u001b[0;34m(\u001b[0m\u001b[0mloop\u001b[0m\u001b[0;34m)\u001b[0m\u001b[0;34m)\u001b[0m\u001b[0;34m\u001b[0m\u001b[0;34m\u001b[0m\u001b[0m\n\u001b[0;32m----> 4\u001b[0;31m \u001b[0mloop\u001b[0m\u001b[0;34m.\u001b[0m\u001b[0mrun_forever\u001b[0m\u001b[0;34m(\u001b[0m\u001b[0;34m)\u001b[0m\u001b[0;34m\u001b[0m\u001b[0;34m\u001b[0m\u001b[0m\n\u001b[0m\u001b[1;32m      5\u001b[0m \u001b[0mloop\u001b[0m\u001b[0;34m.\u001b[0m\u001b[0mclose\u001b[0m\u001b[0;34m(\u001b[0m\u001b[0;34m)\u001b[0m\u001b[0;34m\u001b[0m\u001b[0;34m\u001b[0m\u001b[0m\n\u001b[1;32m      6\u001b[0m \u001b[0mprint\u001b[0m\u001b[0;34m(\u001b[0m\u001b[0;34m\"Done.\"\u001b[0m\u001b[0;34m)\u001b[0m\u001b[0;34m\u001b[0m\u001b[0;34m\u001b[0m\u001b[0m\n",
      "\u001b[0;32m/usr/local/share/pynq-venv/lib/python3.8/site-packages/nest_asyncio.py\u001b[0m in \u001b[0;36mrun_forever\u001b[0;34m(self)\u001b[0m\n\u001b[1;32m     51\u001b[0m         \u001b[0;32mwith\u001b[0m \u001b[0mmanage_run\u001b[0m\u001b[0;34m(\u001b[0m\u001b[0mself\u001b[0m\u001b[0;34m)\u001b[0m\u001b[0;34m,\u001b[0m \u001b[0mmanage_asyncgens\u001b[0m\u001b[0;34m(\u001b[0m\u001b[0mself\u001b[0m\u001b[0;34m)\u001b[0m\u001b[0;34m:\u001b[0m\u001b[0;34m\u001b[0m\u001b[0;34m\u001b[0m\u001b[0m\n\u001b[1;32m     52\u001b[0m             \u001b[0;32mwhile\u001b[0m \u001b[0;32mTrue\u001b[0m\u001b[0;34m:\u001b[0m\u001b[0;34m\u001b[0m\u001b[0;34m\u001b[0m\u001b[0m\n\u001b[0;32m---> 53\u001b[0;31m                 \u001b[0mself\u001b[0m\u001b[0;34m.\u001b[0m\u001b[0m_run_once\u001b[0m\u001b[0;34m(\u001b[0m\u001b[0;34m)\u001b[0m\u001b[0;34m\u001b[0m\u001b[0;34m\u001b[0m\u001b[0m\n\u001b[0m\u001b[1;32m     54\u001b[0m                 \u001b[0;32mif\u001b[0m \u001b[0mself\u001b[0m\u001b[0;34m.\u001b[0m\u001b[0m_stopping\u001b[0m\u001b[0;34m:\u001b[0m\u001b[0;34m\u001b[0m\u001b[0;34m\u001b[0m\u001b[0m\n\u001b[1;32m     55\u001b[0m                     \u001b[0;32mbreak\u001b[0m\u001b[0;34m\u001b[0m\u001b[0;34m\u001b[0m\u001b[0m\n",
      "\u001b[0;32m/usr/local/share/pynq-venv/lib/python3.8/site-packages/nest_asyncio.py\u001b[0m in \u001b[0;36m_run_once\u001b[0;34m(self)\u001b[0m\n\u001b[1;32m     85\u001b[0m             \u001b[0;32melse\u001b[0m \u001b[0mmin\u001b[0m\u001b[0;34m(\u001b[0m\u001b[0mmax\u001b[0m\u001b[0;34m(\u001b[0m\u001b[0mscheduled\u001b[0m\u001b[0;34m[\u001b[0m\u001b[0;36m0\u001b[0m\u001b[0;34m]\u001b[0m\u001b[0;34m.\u001b[0m\u001b[0m_when\u001b[0m \u001b[0;34m-\u001b[0m \u001b[0mnow\u001b[0m\u001b[0;34m,\u001b[0m \u001b[0;36m0\u001b[0m\u001b[0;34m)\u001b[0m\u001b[0;34m,\u001b[0m \u001b[0;36m86400\u001b[0m\u001b[0;34m)\u001b[0m \u001b[0;32mif\u001b[0m \u001b[0mscheduled\u001b[0m\u001b[0;34m\u001b[0m\u001b[0;34m\u001b[0m\u001b[0m\n\u001b[1;32m     86\u001b[0m             else None)\n\u001b[0;32m---> 87\u001b[0;31m         \u001b[0mevent_list\u001b[0m \u001b[0;34m=\u001b[0m \u001b[0mself\u001b[0m\u001b[0;34m.\u001b[0m\u001b[0m_selector\u001b[0m\u001b[0;34m.\u001b[0m\u001b[0mselect\u001b[0m\u001b[0;34m(\u001b[0m\u001b[0mtimeout\u001b[0m\u001b[0;34m)\u001b[0m\u001b[0;34m\u001b[0m\u001b[0;34m\u001b[0m\u001b[0m\n\u001b[0m\u001b[1;32m     88\u001b[0m         \u001b[0mself\u001b[0m\u001b[0;34m.\u001b[0m\u001b[0m_process_events\u001b[0m\u001b[0;34m(\u001b[0m\u001b[0mevent_list\u001b[0m\u001b[0;34m)\u001b[0m\u001b[0;34m\u001b[0m\u001b[0;34m\u001b[0m\u001b[0m\n\u001b[1;32m     89\u001b[0m \u001b[0;34m\u001b[0m\u001b[0m\n",
      "\u001b[0;32m/usr/lib/python3.8/selectors.py\u001b[0m in \u001b[0;36mselect\u001b[0;34m(self, timeout)\u001b[0m\n\u001b[1;32m    466\u001b[0m             \u001b[0mready\u001b[0m \u001b[0;34m=\u001b[0m \u001b[0;34m[\u001b[0m\u001b[0;34m]\u001b[0m\u001b[0;34m\u001b[0m\u001b[0;34m\u001b[0m\u001b[0m\n\u001b[1;32m    467\u001b[0m             \u001b[0;32mtry\u001b[0m\u001b[0;34m:\u001b[0m\u001b[0;34m\u001b[0m\u001b[0;34m\u001b[0m\u001b[0m\n\u001b[0;32m--> 468\u001b[0;31m                 \u001b[0mfd_event_list\u001b[0m \u001b[0;34m=\u001b[0m \u001b[0mself\u001b[0m\u001b[0;34m.\u001b[0m\u001b[0m_selector\u001b[0m\u001b[0;34m.\u001b[0m\u001b[0mpoll\u001b[0m\u001b[0;34m(\u001b[0m\u001b[0mtimeout\u001b[0m\u001b[0;34m,\u001b[0m \u001b[0mmax_ev\u001b[0m\u001b[0;34m)\u001b[0m\u001b[0;34m\u001b[0m\u001b[0;34m\u001b[0m\u001b[0m\n\u001b[0m\u001b[1;32m    469\u001b[0m             \u001b[0;32mexcept\u001b[0m \u001b[0mInterruptedError\u001b[0m\u001b[0;34m:\u001b[0m\u001b[0;34m\u001b[0m\u001b[0;34m\u001b[0m\u001b[0m\n\u001b[1;32m    470\u001b[0m                 \u001b[0;32mreturn\u001b[0m \u001b[0mready\u001b[0m\u001b[0;34m\u001b[0m\u001b[0;34m\u001b[0m\u001b[0m\n",
      "\u001b[0;31mKeyboardInterrupt\u001b[0m: "
     ]
    }
   ],
   "source": [
    "loop = asyncio.new_event_loop()\n",
    "loop.create_task(flash_leds(loop))\n",
    "loop.create_task(get_btns(loop))\n",
    "loop.run_forever()\n",
    "loop.close()        \n",
    "print(\"Done.\")"
   ]
  },
  {
   "cell_type": "code",
   "execution_count": null,
   "id": "0fd7c4d4",
   "metadata": {},
   "outputs": [],
   "source": []
  },
  {
   "cell_type": "code",
   "execution_count": null,
   "id": "27e2ac5a",
   "metadata": {},
   "outputs": [],
   "source": []
  }
 ],
 "metadata": {
  "kernelspec": {
   "display_name": "Python 3",
   "language": "python",
   "name": "python3"
  },
  "language_info": {
   "codemirror_mode": {
    "name": "ipython",
    "version": 3
   },
   "file_extension": ".py",
   "mimetype": "text/x-python",
   "name": "python",
   "nbconvert_exporter": "python",
   "pygments_lexer": "ipython3",
   "version": "3.8.2"
  }
 },
 "nbformat": 4,
 "nbformat_minor": 5
}
